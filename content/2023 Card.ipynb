{
 "cells": [
  {
   "cell_type": "code",
   "execution_count": null,
   "id": "b7ff7e39",
   "metadata": {},
   "outputs": [],
   "source": [
    "import numpy\n",
    "import random\n",
    "from matplotlib import pyplot as plt\n",
    "\n",
    "def thank_you(name):\n",
    "    thanks = [\"You are the best!\", \"Happy New Year!\", \"Have a great 2023!\", \"Best of Luck in 2023!\"]\n",
    "    x = numpy.linspace(-2,2,1000)\n",
    "    y1 = numpy.sqrt(1-(abs(x)-1)**2)\n",
    "    y2 = -3*numpy.sqrt(1-(abs(x)/2))\n",
    "    plt.title(\"Thanks from the whole Fireline Science team\")\n",
    "    plt.fill_between(x, y1, color='orange')\n",
    "    plt.fill_between(x, y2, color='orange')    \n",
    "    plt.text(0, -0.4, \"Thank you, {}!\".format(name), fontsize=24, fontweight='bold',\n",
    "               color='white', horizontalalignment='center')\n",
    "    plt.text(0, -1, thanks[random.randint(0,len(thanks)-1)], fontsize=16, fontweight='bold',\n",
    "               color='white', horizontalalignment='center')\n",
    "    plt.xticks([]) \n",
    "    plt.yticks([]) \n",
    "    plt.show()\n",
    "    "
   ]
  },
  {
   "cell_type": "code",
   "execution_count": null,
   "id": "1255614d",
   "metadata": {},
   "outputs": [],
   "source": [
    "thank_you(\"Enter Your Name Here\")"
   ]
  }
 ],
 "metadata": {
  "kernelspec": {
   "display_name": "Python 3 (ipykernel)",
   "language": "python",
   "name": "python3"
  },
  "language_info": {
   "codemirror_mode": {
    "name": "ipython",
    "version": 3
   },
   "file_extension": ".py",
   "mimetype": "text/x-python",
   "name": "python",
   "nbconvert_exporter": "python",
   "pygments_lexer": "ipython3",
   "version": "3.7.13"
  }
 },
 "nbformat": 4,
 "nbformat_minor": 5
}
