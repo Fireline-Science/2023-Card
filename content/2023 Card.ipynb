{
 "cells": [
  {
   "cell_type": "code",
   "execution_count": null,
   "id": "b7ff7e39",
   "metadata": {},
   "outputs": [],
   "source": [
    "\"\"\"\n",
    "This code will create a custom holiday graphic for you\n",
    "To generate it, put your cursor in this block and hit -shift-return to run it\n",
    "and create the thank_you function. Then insert your name in the next code block\n",
    "and run it.\n",
    "\n",
    "Note: the first time you load this page, it will take several seconds to\n",
    "load Python and run the first code in the local environment. \n",
    "\"\"\"\n",
    "\n",
    "import numpy\n",
    "import random\n",
    "from matplotlib import pyplot as plt\n",
    "\n",
    "def thank_you(name):\n",
    "    thanks = [\"You are the best!\", \"Happy New Year!\", \"Have a great 2023!\", \"Best of Luck in 2023!\"]\n",
    "    x = numpy.linspace(-2,2,1000)\n",
    "    y1 = numpy.sqrt(1-(abs(x)-1)**2)\n",
    "    y2 = -3*numpy.sqrt(1-(abs(x)/2))\n",
    "    plt.title(\"Thanks from the whole Fireline Science team\")\n",
    "    plt.fill_between(x, y1, color='orange')\n",
    "    plt.fill_between(x, y2, color='orange')    \n",
    "    plt.text(0, -0.7, \"Thank you,\\n {}!\".format(name), fontsize=22, fontweight='bold',\n",
    "               color='white', horizontalalignment='center')\n",
    "    plt.text(0, -1.2, thanks[random.randint(0,len(thanks)-1)], fontsize=16, fontweight='bold',\n",
    "               color='white', horizontalalignment='center')\n",
    "    plt.xticks([]) \n",
    "    plt.yticks([]) \n",
    "    plt.show()\n",
    "    "
   ]
  },
  {
   "cell_type": "code",
   "execution_count": null,
   "id": "1255614d",
   "metadata": {},
   "outputs": [],
   "source": [
    "\"\"\"\n",
    "Enter your name in the \"Enter Your Name Here\" quotes below\n",
    "Hit shift-return again to run the code and generate your holiday graphic\n",
    "You are huge part of what has enabled us to succeed thus far in our \n",
    "mission of connecting every student to high quality digital learning\n",
    "regardless of whether they have home internet access!\n",
    "\"\"\"\n",
    "\n",
    "thank_you(\"Enter Your Name Here\")"
   ]
  }
 ],
 "metadata": {
  "kernelspec": {
   "display_name": "Python 3",
   "language": "python",
   "name": "python3"
  },
  "language_info": {
   "codemirror_mode": {
    "name": "ipython",
    "version": 3
   },
   "file_extension": ".py",
   "mimetype": "text/x-python",
   "name": "python",
   "nbconvert_exporter": "python",
   "pygments_lexer": "ipython3",
   "version": "3.8.8"
  }
 },
 "nbformat": 4,
 "nbformat_minor": 5
}
